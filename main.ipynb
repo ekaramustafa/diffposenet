{
 "cells": [
  {
   "cell_type": "code",
   "execution_count": 17,
   "metadata": {},
   "outputs": [],
   "source": [
    "from posenet.model import PoseNetDino\n",
    "from nflownet.model import NFlowNet\n",
    "import torch\n",
    "import torch.nn as nn\n",
    "import torch.functional as F\n",
    "from torch.utils.data import DataLoader\n",
    "import torch.optim as optim\n",
    "from dataset.tartanair import TartanAirDataset\n",
    "import random\n",
    "import numpy as np\n",
    "from cheirality.cheiralityLayer import CheiralityLayer\n",
    "\n",
    "def set_seed(seed):\n",
    "    random.seed(seed)\n",
    "    np.random.seed(seed)\n",
    "    torch.manual_seed(seed)\n",
    "    torch.cuda.manual_seed_all(seed)\n",
    "    torch.backends.cudnn.deterministic = True\n",
    "    torch.backends.cudnn.benchmark = False\n",
    "\n",
    "seed = 42\n",
    "set_seed(seed)\n",
    "device = torch.device(\"cuda\" if torch.cuda.is_available() else \"cpu\")\n"
   ]
  },
  {
   "cell_type": "code",
   "execution_count": 15,
   "metadata": {},
   "outputs": [],
   "source": [
    "from safetensors import safe_open\n",
    "def load_posenet(posenet_path):\n",
    "    # Initialize PoseNet model\n",
    "    posenet = PoseNetDino().to(device)\n",
    "    \n",
    "    # Load weights from .safetensors file\n",
    "    with safe_open(posenet_path, framework=\"pt\", device=\"cpu\") as f:\n",
    "        state_dict = {}\n",
    "        for key in f.keys():\n",
    "            state_dict[key] = f.get_tensor(key)\n",
    "    \n",
    "    # Load state dict into model\n",
    "    posenet.load_state_dict(state_dict)\n",
    "    posenet.train()\n",
    "    \n",
    "    return posenet\n"
   ]
  },
  {
   "cell_type": "code",
   "execution_count": 6,
   "metadata": {},
   "outputs": [],
   "source": [
    "def load_nflownet(nflownet_path):\n",
    "    # Initialize FlowNet model\n",
    "    nflownet = NFlowNet().to(device)\n",
    "    \n",
    "    # Load weights from .pth file\n",
    "    checkpoint = torch.load(nflownet_path, map_location=device)\n",
    "    \n",
    "    # Handle different save formats\n",
    "    if 'state_dict' in checkpoint:\n",
    "        state_dict = checkpoint['state_dict']\n",
    "    elif 'model_state_dict' in checkpoint:\n",
    "        state_dict = checkpoint['model_state_dict']\n",
    "    else:\n",
    "        state_dict = checkpoint\n",
    "    \n",
    "    # Load state dict into model\n",
    "    nflownet.load_state_dict(state_dict)\n",
    "    nflownet.eval()  # Set to evaluation mode\n",
    "    \n",
    "    return nflownet\n",
    "\n"
   ]
  },
  {
   "cell_type": "code",
   "execution_count": null,
   "metadata": {},
   "outputs": [],
   "source": [
    "posenet_path = r\"D:\\KOC UNIVERSITY\\COMP447\\trainedmodels\\posenet\\model.safetensors\"\n",
    "nflownet_path = r\"D:\\KOC UNIVERSITY\\COMP447\\trainedmodels\\nflownet\\nflownet_final.pth\"\n",
    "\n",
    "# Load models\n",
    "posenet = load_posenet(posenet_path)\n",
    "nflownet = load_nflownet(nflownet_path)"
   ]
  },
  {
   "cell_type": "code",
   "execution_count": null,
   "metadata": {},
   "outputs": [],
   "source": [
    "cheirality_layer = CheiralityLayer().to(device)\n",
    "\n",
    "# Dataset and DataLoader\n",
    "dataset = TartanAirDataset(root_dir=\"D:/KOC UNIVERSITY/COMP447/data/image_left\")\n",
    "train_loader = DataLoader(dataset, batch_size=1, shuffle=True)\n",
    "\n",
    "# Optimizer (only for PoseNet parameters)\n",
    "optimizer = optim.Adam(posenet.parameters(), lr=1e-4)\n",
    "\n",
    "# Training loop\n",
    "num_epochs = 1\n",
    "for epoch in range(num_epochs):\n",
    "    total_loss = 0.0\n",
    "    \n",
    "    for images, _, _ in train_loader:\n",
    "        loss = cheirality_layer(images)\n",
    "        optimizer.zero_grad()\n",
    "        loss.backward()\n",
    "        optimizer.step()\n",
    "        total_loss += loss.item()\n",
    "    print(f\"Epoch {epoch}, Loss: {total_loss / len(train_loader)}\")\n",
    "        "
   ]
  }
 ],
 "metadata": {
  "kernelspec": {
   "display_name": "Python 3",
   "language": "python",
   "name": "python3"
  },
  "language_info": {
   "codemirror_mode": {
    "name": "ipython",
    "version": 3
   },
   "file_extension": ".py",
   "mimetype": "text/x-python",
   "name": "python",
   "nbconvert_exporter": "python",
   "pygments_lexer": "ipython3",
   "version": "3.12.10"
  }
 },
 "nbformat": 4,
 "nbformat_minor": 2
}
