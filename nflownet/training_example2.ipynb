{
  "nbformat": 4,
  "nbformat_minor": 0,
  "metadata": {
    "colab": {
      "provenance": [],
      "machine_shape": "hm",
      "gpuType": "A100"
    },
    "kernelspec": {
      "name": "python3",
      "display_name": "Python 3"
    },
    "language_info": {
      "name": "python"
    },
    "accelerator": "GPU"
  },
  "cells": [
    {
      "cell_type": "code",
      "execution_count": 1,
      "metadata": {
        "id": "SPdB3FwOMgh2"
      },
      "outputs": [],
      "source": [
        "import torch\n",
        "import torch.nn as nn\n",
        "import numpy as np\n",
        "from torchvision import transforms\n",
        "from torch.utils.data import Dataset\n",
        "from torch.autograd import Variable\n",
        "import matplotlib.pyplot as plt\n",
        "import torch.nn.functional as F\n",
        "from PIL import Image\n",
        "import torchvision.transforms as transforms\n",
        "import glob"
      ]
    },
    {
      "cell_type": "code",
      "source": [
        "from google.colab import drive\n",
        "drive.mount('/content/drive')"
      ],
      "metadata": {
        "colab": {
          "base_uri": "https://localhost:8080/"
        },
        "id": "6mdStozUMtKm",
        "outputId": "79829435-a182-456d-a021-23ea3ceef42d"
      },
      "execution_count": 2,
      "outputs": [
        {
          "output_type": "stream",
          "name": "stdout",
          "text": [
            "Mounted at /content/drive\n"
          ]
        }
      ]
    },
    {
      "cell_type": "code",
      "source": [
        "!git clone https://github.com/ekaramustafa/diffposenet.git"
      ],
      "metadata": {
        "colab": {
          "base_uri": "https://localhost:8080/"
        },
        "id": "ktYLbSbjMxR2",
        "outputId": "70324746-fd4c-4234-c6f7-19751e7503f1"
      },
      "execution_count": 3,
      "outputs": [
        {
          "output_type": "stream",
          "name": "stdout",
          "text": [
            "Cloning into 'diffposenet'...\n",
            "remote: Enumerating objects: 259, done.\u001b[K\n",
            "remote: Counting objects: 100% (81/81), done.\u001b[K\n",
            "remote: Compressing objects: 100% (81/81), done.\u001b[K\n",
            "remote: Total 259 (delta 48), reused 0 (delta 0), pack-reused 178 (from 1)\u001b[K\n",
            "Receiving objects: 100% (259/259), 117.13 KiB | 4.50 MiB/s, done.\n",
            "Resolving deltas: 100% (144/144), done.\n"
          ]
        }
      ]
    },
    {
      "cell_type": "code",
      "source": [
        "%cd /content/diffposenet/"
      ],
      "metadata": {
        "colab": {
          "base_uri": "https://localhost:8080/"
        },
        "id": "BBWTWtTMM1dM",
        "outputId": "66bd6f00-5829-45bb-b15a-1558e8f9b212"
      },
      "execution_count": 4,
      "outputs": [
        {
          "output_type": "stream",
          "name": "stdout",
          "text": [
            "/content/diffposenet\n"
          ]
        }
      ]
    },
    {
      "cell_type": "code",
      "source": [
        "from torch.utils.data import DataLoader\n",
        "import torch.optim as optim\n",
        "import torch.nn as nn\n",
        "import matplotlib.pyplot as plt\n",
        "from torch.utils.data import random_split\n",
        "from tqdm import tqdm\n",
        "import numpy as np\n",
        "from PIL import Image\n",
        "import glob\n",
        "\n",
        "\n",
        "from nflownet.model import NFlowNet\n",
        "from dataset.tartanair2 import PairedImageDataset\n",
        "\n",
        "\n",
        "img_file_path = '/content/drive/My Drive/P008/image_left'\n",
        "opt_flow_file_path = '/content/drive/My Drive/P008/flow'\n",
        "\n",
        "dataset = PairedImageDataset(img_file_path, opt_flow_file_path)\n",
        "\n",
        "device = torch.device('cuda' if torch.cuda.is_available() else 'cpu')\n",
        "\n",
        "img_file_path = '/content/drive/My Drive/P008/image_left'\n",
        "opt_flow_file_path = '/content/drive/My Drive/P008/flow'\n",
        "dataset = PairedImageDataset(img_file_path, opt_flow_file_path)\n",
        "\n",
        "train_size = int(0.8 * len(dataset))  # 80% for training\n",
        "test_size = len(dataset) - train_size  # Remaining 20% for testing\n",
        "\n",
        "train_dataset, test_dataset = random_split(dataset, [train_size, test_size])\n",
        "\n",
        "train_loader = DataLoader(train_dataset, batch_size=8, shuffle=True)\n",
        "test_loader = DataLoader(test_dataset, batch_size=8, shuffle=False)\n",
        "\n",
        "model = NFlowNet().to(device)\n",
        "optimizer = torch.optim.Adam(model.parameters(), lr=1e-4)\n",
        "criterion = nn.MSELoss()\n",
        "\n",
        "train_losses = []\n",
        "test_losses = []\n",
        "\n",
        "# ----- Compute Initial Loss (Before any training) -----\n",
        "model.eval()\n",
        "initial_test_loss = 0.0\n",
        "with torch.no_grad():\n",
        "    for paired_batch, normal_flow_batch in test_loader:\n",
        "        paired_batch, normal_flow_batch = paired_batch.to(device), normal_flow_batch.to(device)\n",
        "        outputs = model(paired_batch)\n",
        "\n",
        "        loss = criterion(outputs, normal_flow_batch)\n",
        "        initial_test_loss += loss.item()\n",
        "\n",
        "initial_test_loss /= len(test_loader)\n",
        "print(f\"Initial Test Loss (Before Training): {initial_test_loss:.4f}\")\n",
        "\n",
        "# ----- Training Loop -----\n",
        "num_epochs = 10\n",
        "for epoch in range(num_epochs):\n",
        "    model.train()\n",
        "    running_train_loss = 0.0\n",
        "    batch_losses = []\n",
        "\n",
        "    # Wrap train_loader with tqdm\n",
        "    pbar = tqdm(train_loader, desc=f\"Epoch [{epoch + 1}/{num_epochs}]\")\n",
        "\n",
        "    for paired_batch, normal_flow_batch in pbar:\n",
        "        paired_batch, normal_flow_batch = paired_batch.to(device), normal_flow_batch.to(device)\n",
        "\n",
        "        optimizer.zero_grad()\n",
        "        outputs = model(paired_batch)\n",
        "\n",
        "        loss = criterion(outputs, normal_flow_batch)\n",
        "        loss.backward()\n",
        "        optimizer.step()\n",
        "\n",
        "        running_train_loss += loss.item()\n",
        "        batch_losses.append(loss.item())\n",
        "\n",
        "        # Update progress bar with current batch loss\n",
        "        pbar.set_postfix({'Batch Loss': loss.item()})\n",
        "\n",
        "    avg_train_loss = running_train_loss / len(train_loader)\n",
        "    train_losses.append(avg_train_loss)\n",
        "    print(f\"Epoch [{epoch + 1}/{num_epochs}], Avg Train Loss: {avg_train_loss:.4f}\")\n",
        "\n",
        "    # ----- Evaluate on Test Data -----\n",
        "    model.eval()\n",
        "    running_test_loss = 0.0\n",
        "    with torch.no_grad():\n",
        "        for paired_batch, normal_flow_batch in test_loader:\n",
        "            paired_batch, normal_flow_batch = paired_batch.to(device), normal_flow_batch.to(device)\n",
        "            outputs = model(paired_batch)\n",
        "            loss = criterion(outputs, normal_flow_batch)\n",
        "            running_test_loss += loss.item()\n",
        "\n",
        "    avg_test_loss = running_test_loss / len(test_loader)\n",
        "    test_losses.append(avg_test_loss)\n",
        "    print(f\"Epoch [{epoch + 1}/{num_epochs}], Test Loss: {avg_test_loss:.4f}\")\n",
        "\n",
        "# ----- Plotting -----\n",
        "plt.figure(figsize=(10,5))\n",
        "plt.plot(range(num_epochs), train_losses, label=\"Train Loss\")\n",
        "plt.plot(range(num_epochs), test_losses, label=\"Test Loss\")\n",
        "plt.xlabel('Epoch')\n",
        "plt.ylabel('Loss')\n",
        "plt.title('Training and Test Loss over Epochs')\n",
        "plt.legend()\n",
        "plt.grid(True)\n",
        "plt.show()"
      ],
      "metadata": {
        "colab": {
          "base_uri": "https://localhost:8080/",
          "height": 1000
        },
        "id": "gW_RwYjkM3Fa",
        "outputId": "faa301cd-e5cd-4bc5-ede4-132b7743d514"
      },
      "execution_count": 5,
      "outputs": [
        {
          "output_type": "stream",
          "name": "stdout",
          "text": [
            "Initial Test Loss (Before Training): 38.2361\n"
          ]
        },
        {
          "output_type": "stream",
          "name": "stderr",
          "text": [
            "Epoch [1/10]: 100%|██████████| 65/65 [04:13<00:00,  3.89s/it, Batch Loss=49.6]\n"
          ]
        },
        {
          "output_type": "stream",
          "name": "stdout",
          "text": [
            "Epoch [1/10], Avg Train Loss: 33.3614\n",
            "Epoch [1/10], Test Loss: 34.2517\n"
          ]
        },
        {
          "output_type": "stream",
          "name": "stderr",
          "text": [
            "Epoch [2/10]: 100%|██████████| 65/65 [00:21<00:00,  3.04it/s, Batch Loss=9.69]\n"
          ]
        },
        {
          "output_type": "stream",
          "name": "stdout",
          "text": [
            "Epoch [2/10], Avg Train Loss: 29.7181\n",
            "Epoch [2/10], Test Loss: 32.4692\n"
          ]
        },
        {
          "output_type": "stream",
          "name": "stderr",
          "text": [
            "Epoch [3/10]: 100%|██████████| 65/65 [00:21<00:00,  3.04it/s, Batch Loss=26.1]\n"
          ]
        },
        {
          "output_type": "stream",
          "name": "stdout",
          "text": [
            "Epoch [3/10], Avg Train Loss: 28.2245\n",
            "Epoch [3/10], Test Loss: 29.1161\n"
          ]
        },
        {
          "output_type": "stream",
          "name": "stderr",
          "text": [
            "Epoch [4/10]: 100%|██████████| 65/65 [00:21<00:00,  3.06it/s, Batch Loss=30.7]\n"
          ]
        },
        {
          "output_type": "stream",
          "name": "stdout",
          "text": [
            "Epoch [4/10], Avg Train Loss: 26.4835\n",
            "Epoch [4/10], Test Loss: 27.5670\n"
          ]
        },
        {
          "output_type": "stream",
          "name": "stderr",
          "text": [
            "Epoch [5/10]: 100%|██████████| 65/65 [00:21<00:00,  3.04it/s, Batch Loss=10.5]\n"
          ]
        },
        {
          "output_type": "stream",
          "name": "stdout",
          "text": [
            "Epoch [5/10], Avg Train Loss: 24.1185\n",
            "Epoch [5/10], Test Loss: 24.5750\n"
          ]
        },
        {
          "output_type": "stream",
          "name": "stderr",
          "text": [
            "Epoch [6/10]: 100%|██████████| 65/65 [00:21<00:00,  3.02it/s, Batch Loss=17.4]\n"
          ]
        },
        {
          "output_type": "stream",
          "name": "stdout",
          "text": [
            "Epoch [6/10], Avg Train Loss: 23.7286\n",
            "Epoch [6/10], Test Loss: 23.6384\n"
          ]
        },
        {
          "output_type": "stream",
          "name": "stderr",
          "text": [
            "Epoch [7/10]: 100%|██████████| 65/65 [00:21<00:00,  3.03it/s, Batch Loss=24.5]\n"
          ]
        },
        {
          "output_type": "stream",
          "name": "stdout",
          "text": [
            "Epoch [7/10], Avg Train Loss: 22.9232\n",
            "Epoch [7/10], Test Loss: 22.9331\n"
          ]
        },
        {
          "output_type": "stream",
          "name": "stderr",
          "text": [
            "Epoch [8/10]: 100%|██████████| 65/65 [00:21<00:00,  3.06it/s, Batch Loss=31.1]\n"
          ]
        },
        {
          "output_type": "stream",
          "name": "stdout",
          "text": [
            "Epoch [8/10], Avg Train Loss: 22.7326\n",
            "Epoch [8/10], Test Loss: 23.4337\n"
          ]
        },
        {
          "output_type": "stream",
          "name": "stderr",
          "text": [
            "Epoch [9/10]: 100%|██████████| 65/65 [00:21<00:00,  3.05it/s, Batch Loss=14.5]\n"
          ]
        },
        {
          "output_type": "stream",
          "name": "stdout",
          "text": [
            "Epoch [9/10], Avg Train Loss: 23.3564\n",
            "Epoch [9/10], Test Loss: 23.6683\n"
          ]
        },
        {
          "output_type": "stream",
          "name": "stderr",
          "text": [
            "Epoch [10/10]: 100%|██████████| 65/65 [00:21<00:00,  3.03it/s, Batch Loss=9.35]\n"
          ]
        },
        {
          "output_type": "stream",
          "name": "stdout",
          "text": [
            "Epoch [10/10], Avg Train Loss: 21.8829\n",
            "Epoch [10/10], Test Loss: 22.8921\n"
          ]
        },
        {
          "output_type": "display_data",
          "data": {
            "text/plain": [
              "<Figure size 1000x500 with 1 Axes>"
            ],
            "image/png": "[encoded data removed]"
          },
          "metadata": {}
        }
      ]
    },
    {
      "cell_type": "code",
      "source": [],
      "metadata": {
        "id": "ILZKmIGrQ6-N"
      },
      "execution_count": null,
      "outputs": []
    }
  ]
}