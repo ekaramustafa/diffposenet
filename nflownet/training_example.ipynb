{
  "nbformat": 4,
  "nbformat_minor": 0,
  "metadata": {
    "colab": {
      "provenance": [],
      "gpuType": "T4"
    },
    "kernelspec": {
      "name": "python3",
      "display_name": "Python 3"
    },
    "language_info": {
      "name": "python"
    },
    "accelerator": "GPU"
  },
  "cells": [
    {
      "cell_type": "code",
      "execution_count": 178,
      "metadata": {
        "id": "KJ3EWfJv-a9u"
      },
      "outputs": [],
      "source": [
        "import torch\n",
        "import torch.nn as nn\n",
        "import numpy as np\n",
        "from torchvision import transforms\n",
        "from torch.utils.data import Dataset\n",
        "from torch.autograd import Variable\n",
        "import matplotlib.pyplot as plt\n",
        "import torch.nn.functional as F\n",
        "from PIL import Image\n",
        "import torchvision.transforms as transforms\n",
        "import glob"
      ]
    },
    {
      "cell_type": "code",
      "source": [
        "from google.colab import drive\n",
        "drive.mount('/content/drive')"
      ],
      "metadata": {
        "colab": {
          "base_uri": "https://localhost:8080/"
        },
        "id": "2WO54qoU-dGC",
        "outputId": "039593a3-80b3-4713-e33c-3448b21ee404"
      },
      "execution_count": 2,
      "outputs": [
        {
          "output_type": "stream",
          "name": "stdout",
          "text": [
            "Mounted at /content/drive\n"
          ]
        }
      ]
    },
    {
      "cell_type": "code",
      "source": [
        "!git clone https://github.com/ekaramustafa/diffposenet.git"
      ],
      "metadata": {
        "colab": {
          "base_uri": "https://localhost:8080/"
        },
        "id": "9kUdAePo_hF8",
        "outputId": "80759370-7dc3-49ff-ae83-38e1a149a4b9"
      },
      "execution_count": 5,
      "outputs": [
        {
          "output_type": "stream",
          "name": "stdout",
          "text": [
            "Cloning into 'diffposenet'...\n",
            "remote: Enumerating objects: 158, done.\u001b[K\n",
            "remote: Counting objects: 100% (158/158), done.\u001b[K\n",
            "remote: Compressing objects: 100% (103/103), done.\u001b[K\n",
            "remote: Total 158 (delta 80), reused 108 (delta 47), pack-reused 0 (from 0)\u001b[K\n",
            "Receiving objects: 100% (158/158), 50.50 KiB | 4.59 MiB/s, done.\n",
            "Resolving deltas: 100% (80/80), done.\n"
          ]
        }
      ]
    },
    {
      "cell_type": "code",
      "source": [
        "def compute_image_gradients(image_tensor):\n",
        "    \"\"\"\n",
        "    Computes ∇I = (∂I/∂x, ∂I/∂y) given an input image tensor.\n",
        "    \"\"\"\n",
        "\n",
        "    # --- Prepare the input tensor ---\n",
        "    x = image_tensor.unsqueeze(0).float()\n",
        "\n",
        "    # --- Define Sobel filters ---\n",
        "    sobel_x = np.array([[1, 0, -1],\n",
        "                        [2, 0, -2],\n",
        "                        [1, 0, -1]], dtype=np.float32)\n",
        "\n",
        "    sobel_y = np.array([[1, 2, 1],\n",
        "                        [0, 0, 0],\n",
        "                        [-1, -2, -1]], dtype=np.float32)\n",
        "\n",
        "    # --- Create convolution layers with Sobel kernels ---\n",
        "    conv_x = nn.Conv2d(1, 1, kernel_size=3, stride=1, padding=1, bias=False).float()\n",
        "    conv_y = nn.Conv2d(1, 1, kernel_size=3, stride=1, padding=1, bias=False).float()\n",
        "\n",
        "    # Assign weights\n",
        "    conv_x.weight = nn.Parameter(torch.from_numpy(sobel_x).unsqueeze(0).unsqueeze(0))\n",
        "    conv_y.weight = nn.Parameter(torch.from_numpy(sobel_y).unsqueeze(0).unsqueeze(0))\n",
        "\n",
        "    # --- Compute gradients ---\n",
        "    grad_x = conv_x(x).squeeze(0)\n",
        "    grad_y = conv_y(x).squeeze(0)\n",
        "\n",
        "    return grad_x, grad_y"
      ],
      "metadata": {
        "id": "Y8KA0N0qLJZx"
      },
      "execution_count": 171,
      "outputs": []
    },
    {
      "cell_type": "code",
      "source": [
        "def compute_normal_flow(opt_flow: torch.tensor, img_pair: torch.tensor):\n",
        "    \"\"\"\n",
        "    Args:\n",
        "        opt_flow: (2, H, W) tensor containing horizontal (u) and vertical (v) optical flow components\n",
        "        image_pair: (6, H, W) tensor containing concatenated image pairs (e.g., [img1, img2])\n",
        "\n",
        "    Returns:\n",
        "        normal_flow_magnitude: (1, H, W) tensor containing normal flow magnitude for the image pair\n",
        "    \"\"\"\n",
        "    grayscale_transform = Grayscale(num_output_channels=1)\n",
        "\n",
        "    u = opt_flow[0:1, :, :]\n",
        "    v = opt_flow[1:2, :, :]\n",
        "\n",
        "    ref_img_gray = grayscale_transform(img_pair[:3, :, :])\n",
        "\n",
        "    grad_x, grad_y = compute_image_gradients(ref_img_gray)\n",
        "    grad_norm_sq = grad_x ** 2 + grad_y ** 2\n",
        "    grad_norm_sq[grad_norm_sq == 0] = 1e-6\n",
        "\n",
        "    dot_product = u * grad_x + v * grad_y\n",
        "    scale = dot_product / grad_norm_sq\n",
        "\n",
        "    n_x = scale * grad_x\n",
        "    n_y = scale * grad_y\n",
        "\n",
        "    normal_flow_magnitude = torch.sqrt(n_x ** 2 + n_y ** 2)\n",
        "    return normal_flow_magnitude"
      ],
      "metadata": {
        "id": "UQe9gIt4JWAf"
      },
      "execution_count": 172,
      "outputs": []
    },
    {
      "cell_type": "code",
      "source": [
        "import torch\n",
        "import numpy as np\n",
        "from PIL import Image\n",
        "import glob\n",
        "from torch.utils.data import Dataset\n",
        "import torchvision.transforms as transforms\n",
        "\n",
        "\n",
        "class PairedImageDataset(Dataset):\n",
        "    def __init__(self, img_folder_path, opt_flow_folder_path):\n",
        "        self.image_paths = sorted(glob.glob(img_folder_path + '/*.png'))\n",
        "        self.opt_flow_paths = sorted(glob.glob(opt_flow_folder_path + '/*_flow.npy'))\n",
        "        self.transform = transforms.ToTensor()\n",
        "\n",
        "    def __len__(self):\n",
        "        return len(self.image_paths) - 1\n",
        "\n",
        "    def __getitem__(self, idx):\n",
        "        # Load two consecutive images\n",
        "        img1 = Image.open(self.image_paths[idx]).convert('RGB')\n",
        "        img2 = Image.open(self.image_paths[idx + 1]).convert('RGB')\n",
        "        img1 = self.transform(img1)\n",
        "        img2 = self.transform(img2)\n",
        "\n",
        "        paired = torch.cat((img1, img2), dim=0)\n",
        "\n",
        "        opt_flow = np.load(self.opt_flow_paths[idx])\n",
        "        opt_flow = torch.from_numpy(opt_flow).permute(2, 0, 1).float()\n",
        "\n",
        "        normal_flow = compute_normal_flow(opt_flow, paired)\n",
        "        return paired, normal_flow"
      ],
      "metadata": {
        "id": "iLS_zgVbOr9x"
      },
      "execution_count": 173,
      "outputs": []
    },
    {
      "cell_type": "code",
      "source": [
        "img_file_path = '/content/drive/My Drive/P008/image_left'\n",
        "opt_flow_file_path = '/content/drive/My Drive/P008/flow'\n",
        "\n",
        "dataset = PairedImageDataset(img_file_path, opt_flow_file_path)"
      ],
      "metadata": {
        "id": "JM0iatZkD7oW"
      },
      "execution_count": 174,
      "outputs": []
    },
    {
      "cell_type": "code",
      "source": [
        "from torch.utils.data import DataLoader\n",
        "import torch.optim as optim\n",
        "import torch.nn as nn\n",
        "import matplotlib.pyplot as plt\n",
        "from torch.utils.data import random_split\n",
        "from tqdm import tqdm\n",
        "\n",
        "from model import NFlowNet\n",
        "\n",
        "device = torch.device('cuda' if torch.cuda.is_available() else 'cpu')\n",
        "\n",
        "img_file_path = '/content/drive/My Drive/P008/image_left'\n",
        "opt_flow_file_path = '/content/drive/My Drive/P008/flow'\n",
        "dataset = PairedImageDataset(img_file_path, opt_flow_file_path)\n",
        "\n",
        "train_size = int(0.8 * len(dataset))  # 80% for training\n",
        "test_size = len(dataset) - train_size  # Remaining 20% for testing\n",
        "\n",
        "train_dataset, test_dataset = random_split(dataset, [train_size, test_size])\n",
        "\n",
        "train_loader = DataLoader(train_dataset, batch_size=8, shuffle=True)\n",
        "test_loader = DataLoader(test_dataset, batch_size=8, shuffle=False)\n",
        "\n",
        "\n",
        "model = NFlowNet().to(device)\n",
        "optimizer = torch.optim.Adam(model.parameters(), lr=1e-4)\n",
        "criterion = nn.MSELoss()\n",
        "\n",
        "train_losses = []\n",
        "test_losses = []\n",
        "\n",
        "# ----- Compute Initial Loss (Before any training) -----\n",
        "model.eval()\n",
        "initial_test_loss = 0.0\n",
        "with torch.no_grad():\n",
        "    for paired_batch, normal_flow_batch in test_loader:\n",
        "        paired_batch, normal_flow_batch = paired_batch.to(device), normal_flow_batch.to(device)\n",
        "        outputs = model(paired_batch)\n",
        "\n",
        "        loss = criterion(outputs, normal_flow_batch)\n",
        "        initial_test_loss += loss.item()\n",
        "\n",
        "initial_test_loss /= len(test_loader)\n",
        "print(f\"Initial Test Loss (Before Training): {initial_test_loss:.4f}\")\n",
        "\n",
        "# ----- Training Loop -----\n",
        "num_epochs = 10\n",
        "for epoch in range(num_epochs):\n",
        "    model.train()\n",
        "    running_train_loss = 0.0\n",
        "    batch_losses = []\n",
        "\n",
        "    # Wrap train_loader with tqdm\n",
        "    pbar = tqdm(train_loader, desc=f\"Epoch [{epoch + 1}/{num_epochs}]\")\n",
        "\n",
        "    for paired_batch, normal_flow_batch in pbar:\n",
        "        paired_batch, normal_flow_batch = paired_batch.to(device), normal_flow_batch.to(device)\n",
        "\n",
        "        optimizer.zero_grad()\n",
        "        outputs = model(paired_batch)\n",
        "\n",
        "        loss = criterion(outputs, normal_flow_batch)\n",
        "        loss.backward()\n",
        "        optimizer.step()\n",
        "\n",
        "        running_train_loss += loss.item()\n",
        "        batch_losses.append(loss.item())\n",
        "\n",
        "        # Update progress bar with current batch loss\n",
        "        pbar.set_postfix({'Batch Loss': loss.item()})\n",
        "\n",
        "    avg_train_loss = running_train_loss / len(train_loader)\n",
        "    train_losses.append(avg_train_loss)\n",
        "    print(f\"Epoch [{epoch + 1}/{num_epochs}], Avg Train Loss: {avg_train_loss:.4f}\")\n",
        "\n",
        "    # ----- Evaluate on Test Data -----\n",
        "    model.eval()\n",
        "    running_test_loss = 0.0\n",
        "    with torch.no_grad():\n",
        "        for paired_batch, normal_flow_batch in test_loader:\n",
        "            paired_batch, normal_flow_batch = paired_batch.to(device), normal_flow_batch.to(device)\n",
        "            outputs = model(paired_batch)\n",
        "            loss = criterion(outputs, normal_flow_batch)\n",
        "            running_test_loss += loss.item()\n",
        "\n",
        "    avg_test_loss = running_test_loss / len(test_loader)\n",
        "    test_losses.append(avg_test_loss)\n",
        "    print(f\"Epoch [{epoch + 1}/{num_epochs}], Test Loss: {avg_test_loss:.4f}\")\n",
        "\n",
        "# ----- Plotting -----\n",
        "plt.figure(figsize=(10,5))\n",
        "plt.plot(range(num_epochs), train_losses, label=\"Train Loss\")\n",
        "plt.plot(range(num_epochs), test_losses, label=\"Test Loss\")\n",
        "plt.xlabel('Epoch')\n",
        "plt.ylabel('Loss')\n",
        "plt.title('Training and Test Loss over Epochs')\n",
        "plt.legend()\n",
        "plt.grid(True)\n",
        "plt.show()"
      ],
      "metadata": {
        "colab": {
          "base_uri": "https://localhost:8080/",
          "height": 1000
        },
        "id": "hpZgXPb-PE0L",
        "outputId": "240b0d9e-4d6a-44ae-8f4c-b32f96037ced"
      },
      "execution_count": 175,
      "outputs": [
        {
          "output_type": "stream",
          "name": "stdout",
          "text": [
            "Initial Test Loss (Before Training): 63.6846\n"
          ]
        },
        {
          "output_type": "stream",
          "name": "stderr",
          "text": [
            "Epoch [1/10]: 100%|██████████| 65/65 [01:22<00:00,  1.27s/it, Batch Loss=56.3]\n"
          ]
        },
        {
          "output_type": "stream",
          "name": "stdout",
          "text": [
            "Epoch [1/10], Avg Train Loss: 65.9965\n",
            "Epoch [1/10], Test Loss: 38.5648\n"
          ]
        },
        {
          "output_type": "stream",
          "name": "stderr",
          "text": [
            "Epoch [2/10]: 100%|██████████| 65/65 [01:47<00:00,  1.65s/it, Batch Loss=41.9]\n"
          ]
        },
        {
          "output_type": "stream",
          "name": "stdout",
          "text": [
            "Epoch [2/10], Avg Train Loss: 38.3618\n",
            "Epoch [2/10], Test Loss: 25.7775\n"
          ]
        },
        {
          "output_type": "stream",
          "name": "stderr",
          "text": [
            "Epoch [3/10]: 100%|██████████| 65/65 [02:10<00:00,  2.01s/it, Batch Loss=11.6]\n"
          ]
        },
        {
          "output_type": "stream",
          "name": "stdout",
          "text": [
            "Epoch [3/10], Avg Train Loss: 26.4385\n",
            "Epoch [3/10], Test Loss: 19.5235\n"
          ]
        },
        {
          "output_type": "stream",
          "name": "stderr",
          "text": [
            "Epoch [4/10]: 100%|██████████| 65/65 [02:15<00:00,  2.09s/it, Batch Loss=12.2]\n"
          ]
        },
        {
          "output_type": "stream",
          "name": "stdout",
          "text": [
            "Epoch [4/10], Avg Train Loss: 22.8273\n",
            "Epoch [4/10], Test Loss: 16.0061\n"
          ]
        },
        {
          "output_type": "stream",
          "name": "stderr",
          "text": [
            "Epoch [5/10]: 100%|██████████| 65/65 [02:17<00:00,  2.11s/it, Batch Loss=21.7]\n"
          ]
        },
        {
          "output_type": "stream",
          "name": "stdout",
          "text": [
            "Epoch [5/10], Avg Train Loss: 21.8065\n",
            "Epoch [5/10], Test Loss: 16.9652\n"
          ]
        },
        {
          "output_type": "stream",
          "name": "stderr",
          "text": [
            "Epoch [6/10]: 100%|██████████| 65/65 [02:11<00:00,  2.02s/it, Batch Loss=27.8]\n"
          ]
        },
        {
          "output_type": "stream",
          "name": "stdout",
          "text": [
            "Epoch [6/10], Avg Train Loss: 21.5691\n",
            "Epoch [6/10], Test Loss: 17.4715\n"
          ]
        },
        {
          "output_type": "stream",
          "name": "stderr",
          "text": [
            "Epoch [7/10]: 100%|██████████| 65/65 [02:10<00:00,  2.01s/it, Batch Loss=16.1]\n"
          ]
        },
        {
          "output_type": "stream",
          "name": "stdout",
          "text": [
            "Epoch [7/10], Avg Train Loss: 21.0089\n",
            "Epoch [7/10], Test Loss: 21.4917\n"
          ]
        },
        {
          "output_type": "stream",
          "name": "stderr",
          "text": [
            "Epoch [8/10]: 100%|██████████| 65/65 [02:13<00:00,  2.05s/it, Batch Loss=79.9]\n"
          ]
        },
        {
          "output_type": "stream",
          "name": "stdout",
          "text": [
            "Epoch [8/10], Avg Train Loss: 20.5033\n",
            "Epoch [8/10], Test Loss: 15.4162\n"
          ]
        },
        {
          "output_type": "stream",
          "name": "stderr",
          "text": [
            "Epoch [9/10]: 100%|██████████| 65/65 [01:56<00:00,  1.79s/it, Batch Loss=28.6]\n"
          ]
        },
        {
          "output_type": "stream",
          "name": "stdout",
          "text": [
            "Epoch [9/10], Avg Train Loss: 19.9960\n",
            "Epoch [9/10], Test Loss: 18.7604\n"
          ]
        },
        {
          "output_type": "stream",
          "name": "stderr",
          "text": [
            "Epoch [10/10]: 100%|██████████| 65/65 [01:34<00:00,  1.46s/it, Batch Loss=44.9]\n"
          ]
        },
        {
          "output_type": "stream",
          "name": "stdout",
          "text": [
            "Epoch [10/10], Avg Train Loss: 20.3619\n",
            "Epoch [10/10], Test Loss: 17.2036\n"
          ]
        },
        {
          "output_type": "display_data",
          "data": {
            "text/plain": [
              "<Figure size 1000x500 with 1 Axes>"
            ],
            "image/png": "[encoded data removed]"
          },
          "metadata": {}
        }
      ]
    }
  ]
}